{
 "cells": [
  {
   "attachments": {},
   "cell_type": "markdown",
   "metadata": {},
   "source": [
    "Python Advance Assignment-1"
   ]
  },
  {
   "cell_type": "code",
   "execution_count": 2,
   "metadata": {},
   "outputs": [
    {
     "name": "stdout",
     "output_type": "stream",
     "text": [
      "Hello Python\n"
     ]
    }
   ],
   "source": [
    "#1. Write a Python program to print 'Hello Python'?\n",
    "print('Hello Python')"
   ]
  },
  {
   "cell_type": "code",
   "execution_count": 3,
   "metadata": {},
   "outputs": [
    {
     "data": {
      "text/plain": [
       "5"
      ]
     },
     "execution_count": 3,
     "metadata": {},
     "output_type": "execute_result"
    }
   ],
   "source": [
    "#2. Write a Python program to do arithmetical operations addition and division.?\n",
    "add = 'add'\n",
    "div = 'div'\n",
    "def arithmetic(choise,num1,num2):\n",
    "    if choise == 'sub':\n",
    "        return num1 - num2\n",
    "    elif choise == 'div':\n",
    "        return num1/num2\n",
    "    \n",
    "arithmetic('sub',10,5)\n",
    "    "
   ]
  },
  {
   "cell_type": "code",
   "execution_count": 5,
   "metadata": {},
   "outputs": [
    {
     "data": {
      "text/plain": [
       "25.0"
      ]
     },
     "execution_count": 5,
     "metadata": {},
     "output_type": "execute_result"
    }
   ],
   "source": [
    "#3. Write a Python program to find the area of a triangle?\n",
    "b = int(input(\"Enter the breadth: \"))\n",
    "h = int(input('Enter the height: '))\n",
    "def areaOfTriangle():\n",
    "    return 0.5*b*h\n",
    "areaOfTriangle()"
   ]
  },
  {
   "cell_type": "code",
   "execution_count": 9,
   "metadata": {},
   "outputs": [
    {
     "name": "stdout",
     "output_type": "stream",
     "text": [
      "x: 50\n",
      "y: 10\n"
     ]
    }
   ],
   "source": [
    "#4. Write a Python program to swap two variables?\n",
    "x = 10\n",
    "y = 50\n",
    "def swap(x,y):\n",
    "    temp = x\n",
    "    x = y\n",
    "    y = temp\n",
    "    print('x:',x)\n",
    "    print('y:',y)\n",
    "swap(x,y)"
   ]
  },
  {
   "cell_type": "code",
   "execution_count": 10,
   "metadata": {},
   "outputs": [
    {
     "name": "stdout",
     "output_type": "stream",
     "text": [
      "0.90106166994701\n"
     ]
    }
   ],
   "source": [
    "#5. Write a Python program to generate a random number?\n",
    "import random\n",
    "num = random.random()\n",
    "print(num)"
   ]
  },
  {
   "cell_type": "code",
   "execution_count": null,
   "metadata": {},
   "outputs": [],
   "source": []
  }
 ],
 "metadata": {
  "kernelspec": {
   "display_name": "Python 3",
   "language": "python",
   "name": "python3"
  },
  "language_info": {
   "codemirror_mode": {
    "name": "ipython",
    "version": 3
   },
   "file_extension": ".py",
   "mimetype": "text/x-python",
   "name": "python",
   "nbconvert_exporter": "python",
   "pygments_lexer": "ipython3",
   "version": "3.8.10"
  },
  "orig_nbformat": 4
 },
 "nbformat": 4,
 "nbformat_minor": 2
}

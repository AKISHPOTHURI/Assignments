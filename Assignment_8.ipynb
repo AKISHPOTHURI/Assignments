{
 "cells": [
  {
   "attachments": {},
   "cell_type": "markdown",
   "metadata": {},
   "source": [
    "Assignment-8"
   ]
  },
  {
   "attachments": {},
   "cell_type": "markdown",
   "metadata": {},
   "source": [
    "#1. Is the Python Standard Library included with PyInputPlus?"
   ]
  },
  {
   "cell_type": "code",
   "execution_count": 2,
   "metadata": {},
   "outputs": [],
   "source": [
    "#PyInputPlus is not a part of the Python Standard Library, we must install it separately using Pip"
   ]
  },
  {
   "cell_type": "code",
   "execution_count": 3,
   "metadata": {},
   "outputs": [],
   "source": [
    "#2. Why is PyInputPlus commonly imported with import pyinputplus as pypi?\n",
    "#You can import the module with import pyinputplus as pyip so that you can \n",
    "#enter a shorter name when calling the module’s functions"
   ]
  },
  {
   "cell_type": "code",
   "execution_count": 5,
   "metadata": {},
   "outputs": [],
   "source": [
    "#3. How do you distinguish between inputInt() and inputFloat()?\n",
    "#inputInt() : Accepts an integer value. This also takes additional parameters \n",
    "# ‘min’, ‘max’, ‘greaterThan’ and ‘lessThan’  for bounds. Returns an int.\n",
    "#inputFloat() : Accepts a floating-point numeric value. Also takes additional \n",
    "# ‘min’, ‘max’, ‘greaterThan’ and ‘lessThan’  parameters. Returns a float."
   ]
  },
  {
   "cell_type": "code",
   "execution_count": 9,
   "metadata": {},
   "outputs": [
    {
     "name": "stdout",
     "output_type": "stream",
     "text": [
      "Number must be at maximum 99.\n"
     ]
    },
    {
     "data": {
      "text/plain": [
       "55"
      ]
     },
     "execution_count": 9,
     "metadata": {},
     "output_type": "execute_result"
    }
   ],
   "source": [
    "#4. Using PyInputPlus, how do you ensure that the user enters a whole number between 0 and 99?\n",
    "# By using \n",
    "# ex:\n",
    "import pyinputplus as pyip\n",
    "pyip.inputInt(min=0, max=99)"
   ]
  },
  {
   "cell_type": "code",
   "execution_count": 13,
   "metadata": {},
   "outputs": [
    {
     "name": "stdout",
     "output_type": "stream",
     "text": [
      "IV\n",
      "This response is invalid.\n",
      "This response is invalid.\n",
      "3\n"
     ]
    }
   ],
   "source": [
    "#5. What is transferred to the keyword arguments allowRegexes and blockRegexes?\n",
    "# We can also use regular expressions to specify whether an input is allowed or not. The allowRegexes and blockRegexes\n",
    "# keyword arguments take a list of regular expression strings to determine what the PyInputPlus function will accept or \n",
    "# reject as valid input.\n",
    "response = pyip.inputNum(allowRegexes=[r'(I|V|X|L|C|D|M)+', r'zero']) # it allowes roman letters as numbers too\n",
    "print(response)\n",
    "response1 = pyip.inputNum(blockRegexes=[r'[02468]$'])# blocks the even numbers\n",
    "print(response1)"
   ]
  },
  {
   "cell_type": "code",
   "execution_count": 15,
   "metadata": {},
   "outputs": [
    {
     "name": "stdout",
     "output_type": "stream",
     "text": [
      "Enter an Integer... 'hi' is not an integer.\n",
      "Enter an Integer... 'ju' is not an integer.\n",
      "Enter an Integer... 5\n"
     ]
    }
   ],
   "source": [
    "#6. If a blank input is entered three times, what does inputStr(limit=3) do?\n",
    "# integer input with\n",
    "# limited number of tries\n",
    "inp = pyip.inputInt(prompt = \"Enter an Integer... \", default = 0, limit = 3)\n",
    "  \n",
    "print(inp)"
   ]
  },
  {
   "cell_type": "code",
   "execution_count": 21,
   "metadata": {},
   "outputs": [
    {
     "data": {
      "text/plain": [
       "'hi'"
      ]
     },
     "execution_count": 21,
     "metadata": {},
     "output_type": "execute_result"
    }
   ],
   "source": [
    "#7. If blank input is entered three times, what does inputStr(limit=3, default='hello') do?\n",
    "# When you use limit keyword arguments and also pass a default keyword argument, the function \n",
    "# returns the default value instead of raising an exception\n",
    "response = pyip.inputStr(limit=3, default='hello')\n",
    "response"
   ]
  },
  {
   "cell_type": "code",
   "execution_count": null,
   "metadata": {},
   "outputs": [],
   "source": []
  }
 ],
 "metadata": {
  "kernelspec": {
   "display_name": "Python 3",
   "language": "python",
   "name": "python3"
  },
  "language_info": {
   "codemirror_mode": {
    "name": "ipython",
    "version": 3
   },
   "file_extension": ".py",
   "mimetype": "text/x-python",
   "name": "python",
   "nbconvert_exporter": "python",
   "pygments_lexer": "ipython3",
   "version": "3.8.1"
  },
  "orig_nbformat": 4
 },
 "nbformat": 4,
 "nbformat_minor": 2
}

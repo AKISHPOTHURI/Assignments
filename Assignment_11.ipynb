{
 "cells": [
  {
   "attachments": {},
   "cell_type": "markdown",
   "metadata": {},
   "source": [
    "Assignment-11"
   ]
  },
  {
   "cell_type": "code",
   "execution_count": 4,
   "metadata": {},
   "outputs": [
    {
     "name": "stdout",
     "output_type": "stream",
     "text": [
      "Enter a number:"
     ]
    },
    {
     "ename": "AssertionError",
     "evalue": "",
     "output_type": "error",
     "traceback": [
      "\u001b[1;31m---------------------------------------------------------------------------\u001b[0m",
      "\u001b[1;31mAssertionError\u001b[0m                            Traceback (most recent call last)",
      "Cell \u001b[1;32mIn[4], line 5\u001b[0m\n\u001b[0;32m      3\u001b[0m \u001b[39mimport\u001b[39;00m \u001b[39mpyinputplus\u001b[39;00m \u001b[39mas\u001b[39;00m \u001b[39mpyip\u001b[39;00m\n\u001b[0;32m      4\u001b[0m spam \u001b[39m=\u001b[39m pyip\u001b[39m.\u001b[39minputNum(\u001b[39m\"\u001b[39m\u001b[39mEnter a number:\u001b[39m\u001b[39m\"\u001b[39m)\n\u001b[1;32m----> 5\u001b[0m \u001b[39massert\u001b[39;00m spam \u001b[39m>\u001b[39m \u001b[39m5\u001b[39m\n\u001b[0;32m      6\u001b[0m \u001b[39mprint\u001b[39m(spam)\n",
      "\u001b[1;31mAssertionError\u001b[0m: "
     ]
    }
   ],
   "source": [
    "#1. Create an assert statement that throws an AssertionError if the variable spam is a negative\n",
    "#integer.\n",
    "\n",
    "# The assert keyword is used when debugging code.\n",
    "# The assert keyword lets you test if a condition in your code returns True, if not, the program will raise an AssertionError.\n",
    "import pyinputplus as pyip\n",
    "spam = pyip.inputNum(\"Enter a number:\")\n",
    "assert spam > 5\n",
    "print(spam)\n"
   ]
  },
  {
   "attachments": {},
   "cell_type": "markdown",
   "metadata": {},
   "source": [
    "2. Write an assert statement that triggers an AssertionError if the variables eggs and bacon contain\n",
    "strings that are the same as each other, even if their cases are different (that is, &#39;hello&#39; and &#39;hello&#39; are\n",
    "considered the same, and &#39;goodbye&#39; and &#39;GOODbye&#39; are also considered the same)."
   ]
  },
  {
   "cell_type": "code",
   "execution_count": 8,
   "metadata": {},
   "outputs": [
    {
     "ename": "AssertionError",
     "evalue": "",
     "output_type": "error",
     "traceback": [
      "\u001b[1;31m---------------------------------------------------------------------------\u001b[0m",
      "\u001b[1;31mAssertionError\u001b[0m                            Traceback (most recent call last)",
      "Cell \u001b[1;32mIn[8], line 4\u001b[0m\n\u001b[0;32m      1\u001b[0m eggs \u001b[39m=\u001b[39m \u001b[39m\"\u001b[39m\u001b[39mHello\u001b[39m\u001b[39m\"\u001b[39m\n\u001b[0;32m      2\u001b[0m bacon \u001b[39m=\u001b[39m \u001b[39m\"\u001b[39m\u001b[39mhello\u001b[39m\u001b[39m\"\u001b[39m\n\u001b[1;32m----> 4\u001b[0m \u001b[39massert\u001b[39;00m eggs\u001b[39m.\u001b[39mlower() \u001b[39m!=\u001b[39m bacon\u001b[39m.\u001b[39mlower()\n",
      "\u001b[1;31mAssertionError\u001b[0m: "
     ]
    }
   ],
   "source": [
    "eggs = \"Hello\"\n",
    "bacon = \"hello\"\n",
    "\n",
    "assert eggs.lower() != bacon.lower()\n"
   ]
  },
  {
   "cell_type": "code",
   "execution_count": 9,
   "metadata": {},
   "outputs": [
    {
     "ename": "AssertionError",
     "evalue": "",
     "output_type": "error",
     "traceback": [
      "\u001b[1;31m---------------------------------------------------------------------------\u001b[0m",
      "\u001b[1;31mAssertionError\u001b[0m                            Traceback (most recent call last)",
      "Cell \u001b[1;32mIn[9], line 3\u001b[0m\n\u001b[0;32m      1\u001b[0m \u001b[39m#3. Create an assert statement that throws an AssertionError every time.\u001b[39;00m\n\u001b[0;32m      2\u001b[0m \u001b[39m# assert False throws always assertion\u001b[39;00m\n\u001b[1;32m----> 3\u001b[0m \u001b[39massert\u001b[39;00m \u001b[39mFalse\u001b[39;00m\n",
      "\u001b[1;31mAssertionError\u001b[0m: "
     ]
    }
   ],
   "source": [
    "#3. Create an assert statement that throws an AssertionError every time.\n",
    "# assert False throws always assertion\n",
    "assert False"
   ]
  },
  {
   "cell_type": "code",
   "execution_count": 10,
   "metadata": {},
   "outputs": [],
   "source": [
    "#4. What are the two lines that must be present in your software in order to call logging.debug()?\n",
    "import logging as lg\n",
    "lg.basicConfig(level=lg.DEBUG, format=' %(asctime)s - %(levelname)s - %(message)s')"
   ]
  },
  {
   "cell_type": "code",
   "execution_count": 11,
   "metadata": {},
   "outputs": [],
   "source": [
    "#5. What are the two lines that your program must have in order to have logging.debug() send a\n",
    "# logging message to a file named programLog.txt?\n",
    "import logging as lg\n",
    "lg.basicConfig(filename='programLog.txt', level=lg.DEBUG, format=' %(asctime)s - %(levelname)s - %(message)s')"
   ]
  },
  {
   "attachments": {},
   "cell_type": "markdown",
   "metadata": {},
   "source": [
    "6. What are the five levels of logging?\n",
    "Ans .Five level of loggins are DEBUG, INFO, WARNING, ERROR, and CRITICAL\n",
    "\n",
    "logging.debug() - variable's state and small details\n",
    "\n",
    "logging.info() - general events, confirm a program is working\n",
    "\n",
    "logging.warning() - potiental problem to work on in the future\n",
    "\n",
    "logging.error() - record an error that caused program to fail to do something\n",
    "\n",
    "logging.critical() - fatal error that has caused"
   ]
  },
  {
   "cell_type": "code",
   "execution_count": 12,
   "metadata": {},
   "outputs": [],
   "source": [
    "#7. What line of code would you add to your software to disable all logging messages?\n",
    "import logging as lg\n",
    "lg.disable(lg.CRITICAL)"
   ]
  },
  {
   "attachments": {},
   "cell_type": "markdown",
   "metadata": {},
   "source": [
    "8.Why is using logging messages better than using print() to display the same message?\n",
    "\n",
    "You can disable logging messages without removing the logging function calls.\n",
    "\n",
    "You can selectively disable lower-level logging messages.\n",
    "\n",
    "You can create logging messages. Logging messages provides a timestamp.\n",
    "\n",
    "You can didable logging when ever you want."
   ]
  },
  {
   "attachments": {},
   "cell_type": "markdown",
   "metadata": {},
   "source": [
    "9. What are the differences between the Step Over, Step In, and Step Out buttons in the debugger?\n",
    "\n",
    "The Step in button will move the debugger into a function call.\n",
    "\n",
    "The Over button will quickly execute the function call without stepping into it.\n",
    "\n",
    "The Out button will quickly execute the rest of the code until it steps out of the function it currently is in."
   ]
  },
  {
   "attachments": {},
   "cell_type": "markdown",
   "metadata": {},
   "source": [
    "10.After you click Continue, when will the debugger stop ?\n",
    "\n",
    "Ans. It will stops at next breakpoint, if there are no further breakpoints program will be fully executed.\n",
    "\n",
    "11.What is the concept of a breakpoint?\n",
    "\n",
    "Ans. A breakpoint is an intentional stopping point or pause put into a program for debugging purposes."
   ]
  },
  {
   "cell_type": "code",
   "execution_count": null,
   "metadata": {},
   "outputs": [],
   "source": []
  }
 ],
 "metadata": {
  "kernelspec": {
   "display_name": "Python 3",
   "language": "python",
   "name": "python3"
  },
  "language_info": {
   "codemirror_mode": {
    "name": "ipython",
    "version": 3
   },
   "file_extension": ".py",
   "mimetype": "text/x-python",
   "name": "python",
   "nbconvert_exporter": "python",
   "pygments_lexer": "ipython3",
   "version": "3.8.1"
  },
  "orig_nbformat": 4
 },
 "nbformat": 4,
 "nbformat_minor": 2
}

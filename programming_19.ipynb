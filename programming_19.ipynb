{
 "cells": [
  {
   "attachments": {},
   "cell_type": "markdown",
   "metadata": {},
   "source": [
    "Assignment-19"
   ]
  },
  {
   "attachments": {},
   "cell_type": "markdown",
   "metadata": {},
   "source": [
    "Question1\n",
    "\n",
    "Create a function that takes a string and returns a string in which each character is repeated\n",
    "once.\n",
    "\n",
    "Examples\n",
    "\n",
    "double_char(&quot;String&quot;) ➞ &quot;SSttrriinngg&quot;\n",
    "\n",
    "double_char(&quot;Hello World!&quot;) ➞ &quot;HHeelllloo WWoorrlldd!!&quot;\n",
    "\n",
    "double_char(&quot;1234!_ &quot;) ➞ &quot;11223344!!__ &quot;"
   ]
  },
  {
   "cell_type": "code",
   "execution_count": 1,
   "metadata": {},
   "outputs": [
    {
     "name": "stdout",
     "output_type": "stream",
     "text": [
      "SSttrriinngg\n"
     ]
    }
   ],
   "source": [
    "def double_char(str):\n",
    "    return ''.join([c+c for c in str])\n",
    "print(double_char('String'))\n",
    "     "
   ]
  },
  {
   "attachments": {},
   "cell_type": "markdown",
   "metadata": {},
   "source": [
    "Question2\n",
    "\n",
    "Create a function that reverses a boolean value and returns the string &quot;boolean expected&quot;\n",
    "if another variable type is given.\n",
    "\n",
    "Examples\n",
    "\n",
    "reverse(True) ➞ False\n",
    "\n",
    "reverse(False) ➞ True\n",
    "\n",
    "reverse(0) ➞ &quot;boolean expected&quot;\n",
    "\n",
    "reverse(None) ➞ &quot;boolean expected&quot;"
   ]
  },
  {
   "cell_type": "code",
   "execution_count": 2,
   "metadata": {},
   "outputs": [
    {
     "name": "stdout",
     "output_type": "stream",
     "text": [
      "False\n",
      "True\n",
      "boolean expected\n",
      "boolean expected\n"
     ]
    }
   ],
   "source": [
    "def reverse(arg=None):\n",
    "    return not arg if type(arg) == bool else \"boolean expected\"\n",
    "\n",
    "print(reverse(True)) # False\n",
    "print(reverse(False)) # True\n",
    "print(reverse(0)) # \"boolean expected\"\n",
    "print(reverse(None)) # \"boolean expected\""
   ]
  },
  {
   "attachments": {},
   "cell_type": "markdown",
   "metadata": {},
   "source": [
    "Question3\n",
    "\n",
    "Create a function that returns the thickness (in meters) of a piece of paper after folding it n\n",
    "number of times. The paper starts off with a thickness of 0.5mm.\n",
    "\n",
    "Examples\n",
    "\n",
    "num_layers(1) ➞ &quot;0.001m&quot;\n",
    "\n",
    "Paper folded once is 1mm (equal to 0.001m)\n",
    "\n",
    "num_layers(4) ➞ &quot;0.008m&quot;\n",
    "\n",
    "Paper folded 4 times is 8mm (equal to 0.008m)\n",
    "\n",
    "num_layers(21) ➞ &quot;1048.576m&quot;\n",
    "\n",
    "Paper folded 21 times is 1048576mm (equal to 1048.576m)"
   ]
  },
  {
   "cell_type": "code",
   "execution_count": 3,
   "metadata": {},
   "outputs": [
    {
     "name": "stdout",
     "output_type": "stream",
     "text": [
      "0.001m\n",
      "0.008m\n",
      "1048.576m\n"
     ]
    }
   ],
   "source": [
    "def num_layers(n):\n",
    "    thickness = 0.5\n",
    "    for _ in range(n):\n",
    "        thickness *= 2\n",
    "    \n",
    "    return str(thickness / 1000)+'m' # for meters\n",
    "\n",
    "print(num_layers(1))\n",
    "print(num_layers(4))\n",
    "print(num_layers(21))"
   ]
  },
  {
   "attachments": {},
   "cell_type": "markdown",
   "metadata": {},
   "source": [
    "Question4\n",
    "\n",
    "Create a function that takes a single string as argument and returns an ordered list containing\n",
    "the indices of all capital letters in the string.\n",
    "\n",
    "Examples\n",
    "\n",
    "index_of_caps(&quot;eDaBiT&quot;) ➞ [1, 3, 5]\n",
    "\n",
    "index_of_caps(&quot;eQuINoX&quot;) ➞ [1, 3, 4, 6]\n",
    "\n",
    "index_of_caps(&quot;determine&quot;) ➞ []\n",
    "\n",
    "index_of_caps(&quot;STRIKE&quot;) ➞ [0, 1, 2, 3, 4, 5]\n",
    "\n",
    "index_of_caps(&quot;sUn&quot;) ➞ [1]"
   ]
  },
  {
   "cell_type": "code",
   "execution_count": 4,
   "metadata": {},
   "outputs": [
    {
     "name": "stdout",
     "output_type": "stream",
     "text": [
      "[1, 3, 5]\n",
      "[1, 3, 4, 6]\n",
      "[]\n",
      "[0, 1, 2, 3, 4, 5]\n",
      "[1]\n"
     ]
    }
   ],
   "source": [
    "def index_of_caps(word):\n",
    "    indices = []\n",
    "    for i in range(len(word)):\n",
    "        if word[i].isupper():\n",
    "             indices.append(i)\n",
    "    return indices\n",
    "\n",
    "\n",
    "print(index_of_caps('eDaBiT'))\n",
    "print(index_of_caps('eQuINoX')) \n",
    "print(index_of_caps('determine'))\n",
    "print(index_of_caps('STRIKE'))\n",
    "print(index_of_caps('sUn'))"
   ]
  },
  {
   "attachments": {},
   "cell_type": "markdown",
   "metadata": {},
   "source": [
    "Question5\n",
    "\n",
    "Using list comprehensions, create a function that finds all even numbers from 1 to the given\n",
    "number.\n",
    "\n",
    "Examples\n",
    "\n",
    "find_even_nums(8) ➞ [2, 4, 6, 8]\n",
    "\n",
    "find_even_nums(4) ➞ [2, 4]\n",
    "\n",
    "find_even_nums(2) ➞ [2]"
   ]
  },
  {
   "cell_type": "code",
   "execution_count": 5,
   "metadata": {},
   "outputs": [
    {
     "data": {
      "text/plain": [
       "[2, 4, 6, 8]"
      ]
     },
     "execution_count": 5,
     "metadata": {},
     "output_type": "execute_result"
    }
   ],
   "source": [
    "def find_even_nums(n):\n",
    "    even =[x for x in range(2,n+1) if x % 2 == 0]\n",
    "    return even\n",
    "\n",
    "n = int(input('Enter a number : '))\n",
    "find_even_nums(n)"
   ]
  }
 ],
 "metadata": {
  "kernelspec": {
   "display_name": "Python 3",
   "language": "python",
   "name": "python3"
  },
  "language_info": {
   "codemirror_mode": {
    "name": "ipython",
    "version": 3
   },
   "file_extension": ".py",
   "mimetype": "text/x-python",
   "name": "python",
   "nbconvert_exporter": "python",
   "pygments_lexer": "ipython3",
   "version": "3.8.1"
  },
  "orig_nbformat": 4
 },
 "nbformat": 4,
 "nbformat_minor": 2
}

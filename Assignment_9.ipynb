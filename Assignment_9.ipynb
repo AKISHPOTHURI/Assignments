{
 "cells": [
  {
   "cell_type": "code",
   "execution_count": 3,
   "metadata": {},
   "outputs": [
    {
     "data": {
      "text/plain": [
       "'c:\\\\Users\\\\akish.pothuri\\\\python\\\\Notebooks'"
      ]
     },
     "execution_count": 3,
     "metadata": {},
     "output_type": "execute_result"
    }
   ],
   "source": [
    "#1. To what does a relative path refer?\n",
    "#A relative path is a link that points to a file location on the page where the link is located.\n",
    "#2. What does an absolute path start with your operating system?\n",
    "#An absolute path is defined as the specifying the location of a file or directory from the root directory(/).\n",
    "#3. What do the functions os.getcwd() and os.chdir() do?\n",
    "import os\n",
    "os.getcwd() #get the present working directory.\n",
    "os.chdir()# Changes the present working directory to given directory."
   ]
  },
  {
   "cell_type": "code",
   "execution_count": 5,
   "metadata": {},
   "outputs": [],
   "source": [
    "#4. What are the . and .. folders?\n",
    "# The . folder is the current folder, and .. is the parent folder.\n",
    "#5. In C:\\bacon\\eggs\\spam.txt, which part is the dir name, and which part is the base name?\n",
    "#In C:\\bacon\\eggs\\spam. txt, which part is the dir name, \n",
    "# and which part is the base name? C:\\bacon\\eggs is the dir name, while spam. txt is the base name.\n"
   ]
  },
  {
   "cell_type": "code",
   "execution_count": 6,
   "metadata": {},
   "outputs": [],
   "source": [
    "#6. What are the three “mode” arguments that can be passed to the open() function?\n",
    "# 't'\tOpen in text mode.\n",
    "#  'r'\tOpen a file for reading.\n",
    "# '+'\tOpen a file for updating (reading and writing)"
   ]
  },
  {
   "cell_type": "code",
   "execution_count": 7,
   "metadata": {},
   "outputs": [],
   "source": [
    "#7. What happens if an existing file is opened in write mode?\n",
    "#write() method returns the number of characters written into the file. While writing into a file, \n",
    "# if the file opened in 'w' or 'w+' mode does not exist,\n",
    "# a new file will be created in the same name in our present working directory."
   ]
  },
  {
   "cell_type": "code",
   "execution_count": 8,
   "metadata": {},
   "outputs": [],
   "source": [
    "#8. How do you tell the difference between read() and readlines()?\n",
    "#The read() will read the whole file at once and then print out the first characters that take up as many \n",
    "# bytes as you specify in the parenthesis\n",
    "#The readline() that will read and print out only the first characters that take up as many bytes as you specify \n",
    "# in the parenthesis."
   ]
  },
  {
   "cell_type": "code",
   "execution_count": 9,
   "metadata": {},
   "outputs": [],
   "source": [
    "#9. What data structure does a shelf value resemble?\n",
    "# A shelf value resembles a dictionary value; it has keys and values, along with keys() and values() \n",
    "# methods that work similarly to the dictionary methods of the same names."
   ]
  },
  {
   "cell_type": "code",
   "execution_count": null,
   "metadata": {},
   "outputs": [],
   "source": []
  }
 ],
 "metadata": {
  "kernelspec": {
   "display_name": "Python 3",
   "language": "python",
   "name": "python3"
  },
  "language_info": {
   "codemirror_mode": {
    "name": "ipython",
    "version": 3
   },
   "file_extension": ".py",
   "mimetype": "text/x-python",
   "name": "python",
   "nbconvert_exporter": "python",
   "pygments_lexer": "ipython3",
   "version": "3.8.1"
  },
  "orig_nbformat": 4
 },
 "nbformat": 4,
 "nbformat_minor": 2
}

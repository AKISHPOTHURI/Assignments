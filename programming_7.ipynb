{
 "cells": [
  {
   "attachments": {},
   "cell_type": "markdown",
   "metadata": {},
   "source": [
    "Assignment-7"
   ]
  },
  {
   "cell_type": "code",
   "execution_count": null,
   "metadata": {},
   "outputs": [],
   "source": [
    "# 1. Write a Python Program to find sum of array?\n",
    "# 2. Write a Python Program to find largest element in an array?\n",
    "# 3. Write a Python Program for array rotation?\n",
    "# 4. Write a Python Program to Split the array and add the first part to the end?\n",
    "# 5. Write a Python Program to check if given array is Monotonic?"
   ]
  },
  {
   "cell_type": "code",
   "execution_count": 1,
   "metadata": {},
   "outputs": [
    {
     "name": "stdout",
     "output_type": "stream",
     "text": [
      "Sum :  26\n"
     ]
    }
   ],
   "source": [
    "# 1. Write a Python Program to find sum of array?\n",
    "sum =0\n",
    "arr = [2,4,5,7,8]\n",
    "for i in range(0,len(arr)):\n",
    "    sum+=arr[i]\n",
    "print(\"Sum : \",sum)"
   ]
  },
  {
   "cell_type": "code",
   "execution_count": 7,
   "metadata": {},
   "outputs": [
    {
     "name": "stdout",
     "output_type": "stream",
     "text": [
      "20\n"
     ]
    }
   ],
   "source": [
    "# 2. Write a Python Program to find largest element in an array?\n",
    "arr = [10,5,7,1,6,20]\n",
    "max = arr[0]\n",
    "for i in range(0,len(arr)):\n",
    "    if max < arr[i]:\n",
    "        max = arr[i]\n",
    "print(max)"
   ]
  },
  {
   "cell_type": "code",
   "execution_count": 8,
   "metadata": {},
   "outputs": [
    {
     "name": "stdout",
     "output_type": "stream",
     "text": [
      "11\n",
      "9\n",
      "7\n",
      "5\n",
      "4\n"
     ]
    }
   ],
   "source": [
    "# 3. Write a Python Program for array rotation?\n",
    "arr = [10,4,5,7,9,11]\n",
    "rot = []\n",
    "l = len(arr) -1\n",
    "for i in range(l , 0, -1):\n",
    "  print(arr[i])"
   ]
  },
  {
   "cell_type": "code",
   "execution_count": 13,
   "metadata": {},
   "outputs": [
    {
     "name": "stdout",
     "output_type": "stream",
     "text": [
      "The List   [1, 2, 3, 4, 5, 6]\n",
      "The split list is : [1, 2, 3]\n",
      "The List after split and add : [4, 5, 6, 1, 2, 3]\n"
     ]
    }
   ],
   "source": [
    "# 4. Write a Python Program to Split the array and add the first part to the end?\n",
    "l = int(input(\"Enter the lenth of your list : \"))\n",
    "arr = []\n",
    "newar = []\n",
    "for i in range(l):\n",
    "    arr.append(int(input()))\n",
    "print(\"The List  \",arr)\n",
    "\n",
    "noro = 3\n",
    "if noro > l:\n",
    "    print(\"can not split as elements to split is larger then list lengh\")\n",
    "else:\n",
    "    print(\"The split list is :\",arr[:noro])\n",
    "    newar[:]= arr[noro:l] + arr[:noro]\n",
    "    print(\"The List after split and add :\", newar)"
   ]
  },
  {
   "cell_type": "code",
   "execution_count": 14,
   "metadata": {},
   "outputs": [
    {
     "name": "stdout",
     "output_type": "stream",
     "text": [
      "The List is  [1, 2, 3]\n",
      "Monotonic\n"
     ]
    }
   ],
   "source": [
    "# 5. Write a Python Program to check if given array is Monotonic?\n",
    "l = int(input(\"Enter the lenth of your list : \"))\n",
    "arr = []\n",
    "\n",
    "for i in range(l):\n",
    "    arr.append(int(input()))\n",
    "print(\"The List is \",arr)\n",
    "\n",
    "if all((arr[i] <= arr[i+1] for i in range(l-1)) or (arr[i] >= lst[i+1] for i in range(l-1))):\n",
    "    print(\"Monotonic\")\n",
    "else:\n",
    "    print(\"Not Monotonic\")"
   ]
  }
 ],
 "metadata": {
  "kernelspec": {
   "display_name": "Python 3",
   "language": "python",
   "name": "python3"
  },
  "language_info": {
   "codemirror_mode": {
    "name": "ipython",
    "version": 3
   },
   "file_extension": ".py",
   "mimetype": "text/x-python",
   "name": "python",
   "nbconvert_exporter": "python",
   "pygments_lexer": "ipython3",
   "version": "3.8.10"
  },
  "orig_nbformat": 4
 },
 "nbformat": 4,
 "nbformat_minor": 2
}

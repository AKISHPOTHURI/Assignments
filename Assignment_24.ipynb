{
 "cells": [
  {
   "attachments": {},
   "cell_type": "markdown",
   "metadata": {},
   "source": [
    "Assignment-24"
   ]
  },
  {
   "cell_type": "code",
   "execution_count": 1,
   "metadata": {},
   "outputs": [],
   "source": [
    "#1. What is the relationship between def statements and lambda expressions ?\n",
    "##def statement:-\n",
    "#Allows for any number of lines within a function block.\n",
    "#This is useful in cases where multiple lines of code are required.\n",
    "#We can improve readability by using comments and function explanations.\n",
    "##Lambda Expressions:-\n",
    "#Single-line statements that return some value are supported.\n",
    "#Excellent for doing small operations or data manipulations.\n",
    "#Reduces the code readability"
   ]
  },
  {
   "cell_type": "code",
   "execution_count": 2,
   "metadata": {},
   "outputs": [],
   "source": [
    "#2. What is the benefit of lambda?\n",
    "#Lambda helps you use a function only once, and hence, avoids cluttering up the code with function definitions. \n",
    "# In short, Python's lambda keyword lets you define a function in a single line of code and use it immediately"
   ]
  },
  {
   "cell_type": "code",
   "execution_count": 3,
   "metadata": {},
   "outputs": [],
   "source": [
    "#3. Compare and contrast map, filter, and reduce.\n",
    "#map:-\n",
    "#The map() function iterates through all items in the given iterable and \n",
    "# executes the function we passed as an argument on each of them.\n",
    "#syntax:\n",
    "#map(function, iterable(s))\n",
    "#filter:-\n",
    "#filter() forms a new list that contains only elements that satisfy a certain condition, \n",
    "# i.e. the function we passed returns True.\n",
    "#syntax:\n",
    "#filter(function, iterable(s))\n",
    "#reduce:-\n",
    "#reduce() works by calling the function we passed for the first two items in the sequence. \n",
    "# The result returned by the function is used in another call to function alongside with the next (third in this case), \n",
    "# element.\n",
    "#syntax:\n",
    "#reduce(function, sequence[, initial])"
   ]
  },
  {
   "cell_type": "code",
   "execution_count": 4,
   "metadata": {},
   "outputs": [],
   "source": [
    "#4. What are function annotations, and how are they used?\n",
    "#The primary purpose was to have a standard way to link metadata to function parameters and return value.\n",
    "#Python supports dynamic typing and hence no module is provided for type checking. Annotations like\n",
    "#String based annotations can be used by the libraries to provide better help messages at compile time regarding \n",
    "# the functionalities of various methods, classes and modules."
   ]
  },
  {
   "cell_type": "code",
   "execution_count": 5,
   "metadata": {},
   "outputs": [
    {
     "data": {
      "text/plain": [
       "6"
      ]
     },
     "execution_count": 5,
     "metadata": {},
     "output_type": "execute_result"
    }
   ],
   "source": [
    "#5. What are recursive functions, and how are they used?\n",
    "#This means that the function will continue to call itself and repeat its behavior until \n",
    "# some condition is met to return a result\n",
    "# eg\n",
    "def fact(x):\n",
    "    if x == 1 :\n",
    "        return 1\n",
    "    else :\n",
    "        return x * fact(x-1) # recurtion\n",
    "    \n",
    "fact(3)"
   ]
  },
  {
   "cell_type": "code",
   "execution_count": 6,
   "metadata": {},
   "outputs": [],
   "source": [
    "#6. What are some general design guidelines for coding functions?\n",
    "# Use 4-space indentation and no tabs.\n",
    "# Use docstrings\n",
    "# Wrap linethat they don’t exceed 79 characters\n",
    "# Use of regular and updated comments are valuable to both the coders and users\n",
    "# Use of trailing commas : in case of tuple -> ('good',)\n",
    "# Use Python’s default UTF-8 or ASCII encodings and not any fancy encodings\n",
    "# Naming Conventions"
   ]
  },
  {
   "cell_type": "code",
   "execution_count": null,
   "metadata": {},
   "outputs": [],
   "source": [
    "#7. Name three or more ways that functions can communicate results to a caller.\n",
    "# Function can return single value\n",
    "# Can return multiple values, tuple\n",
    "# can return list,dictionary\n",
    "# can return function object\n",
    "# can return class object"
   ]
  }
 ],
 "metadata": {
  "kernelspec": {
   "display_name": "Python 3",
   "language": "python",
   "name": "python3"
  },
  "language_info": {
   "codemirror_mode": {
    "name": "ipython",
    "version": 3
   },
   "file_extension": ".py",
   "mimetype": "text/x-python",
   "name": "python",
   "nbconvert_exporter": "python",
   "pygments_lexer": "ipython3",
   "version": "3.8.1"
  },
  "orig_nbformat": 4
 },
 "nbformat": 4,
 "nbformat_minor": 2
}
